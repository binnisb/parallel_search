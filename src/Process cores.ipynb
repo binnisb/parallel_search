{
 "metadata": {
  "name": "Process cores"
 },
 "nbformat": 3,
 "nbformat_minor": 0,
 "worksheets": [
  {
   "cells": [
    {
     "cell_type": "code",
     "collapsed": false,
     "input": [
      "from collections import defaultdict\n",
      "import os\n",
      "\n",
      "class Stat:\n",
      "    def __init__(self,id):\n",
      "        self.id = id\n",
      "        self.load = []\n",
      "        self.search = []\n",
      "        \n",
      "    def __lt__(self,stat):\n",
      "        return self.id < stat.id\n",
      "    \n",
      "    def __repr__(self):\n",
      "        return self.__str__()\n",
      "    def __str__(self):\n",
      "        return \"%s\" %(self.id)\n",
      "\n",
      "path = '../result/17gbfile/'\n",
      "a = os.listdir(path)\n",
      "stats = []\n",
      "for fs in a:\n",
      "    f = open(''.join([path,fs]),'r')\n",
      "    s = Stat(int(fs.split('.')[1]))\n",
      "    for line in f:\n",
      "        if line.split()[0] == 'LoadFile:':\n",
      "            s.load.append(float(line.split()[1]))\n",
      "        elif line.split()[0] == 'Search:':\n",
      "            s.search.append(float(line.split()[1]))\n",
      "    stats.append(s)\n",
      "stats.sort()\n",
      "for i in stats:\n",
      "    print i.search\n",
      "figure(1)\n",
      "plot([s.id for s in stats],[average(s.search) for s in stats],'o',label='search')\n",
      "legend()\n",
      "figure(2)\n",
      "plot([s.id for s in stats],[average(s.load) for s in stats],'xr',label='load file')\n",
      "legend()\n",
      "\n",
      "show()\n"
     ],
     "language": "python",
     "metadata": {},
     "outputs": [
      {
       "output_type": "stream",
       "stream": "stdout",
       "text": [
        "[31.738903, 31.739682, 31.739401, 31.738239, 31.74324, 31.739242, 31.739942, 31.741882, 31.743859, 31.74044]\n",
        "[15.943993, 15.944017, 15.938586, 15.948131, 15.944313, 15.93995, 15.946407, 15.941552, 15.943564, 15.943432]\n",
        "[8.004524, 8.003783, 8.00459, 8.00378, 8.003892, 8.0043, 8.004129, 8.004341, 8.004233, 8.004133]\n",
        "[4.005858, 4.005896, 4.005293, 4.005955, 4.005983, 4.006089, 4.0056, 4.005934, 4.006053, 4.006461]\n",
        "[2.014171, 2.014153, 2.015069, 2.014925, 2.015176, 2.01506, 2.015, 2.014558, 2.013944, 2.014347]\n",
        "[1.343924, 1.342829, 1.343541, 1.344037, 1.344241, 1.34303, 1.344166, 1.343179, 1.344073, 1.343807]\n"
       ]
      },
      {
       "output_type": "display_data",
       "png": "[encoded data removed]"
      },
      {
       "output_type": "display_data",
       "png": "[encoded data removed]"
      }
     ],
     "prompt_number": 60
    },
    {
     "cell_type": "code",
     "collapsed": false,
     "input": [
      "import os\n",
      "a = os.listdir('../result/17gbfile/')\n",
      "print a"
     ],
     "language": "python",
     "metadata": {},
     "outputs": [
      {
       "output_type": "stream",
       "stream": "stdout",
       "text": [
        "['cores.1.txt', 'cores.8.txt', 'cores.4.txt', 'cores.16.txt', 'cores.24.txt', 'cores.2.txt']\n"
       ]
      }
     ],
     "prompt_number": 46
    },
    {
     "cell_type": "code",
     "collapsed": false,
     "input": [],
     "language": "python",
     "metadata": {},
     "outputs": [],
     "prompt_number": 46
    },
    {
     "cell_type": "code",
     "collapsed": false,
     "input": [],
     "language": "python",
     "metadata": {},
     "outputs": [],
     "prompt_number": 46
    },
    {
     "cell_type": "code",
     "collapsed": false,
     "input": [],
     "language": "python",
     "metadata": {},
     "outputs": []
    }
   ],
   "metadata": {}
  }
 ]
}